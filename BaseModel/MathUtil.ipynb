{
 "cells": [
  {
   "attachments": {},
   "cell_type": "markdown",
   "metadata": {},
   "source": [
    "### [안내] \n",
    "##### 본 파일은 다음과 같은 구성을 갖습니다. \n",
    "##### AI Program 동작에 있어 가장 먼저 실행되는 파일 입니다.\n",
    "\n",
    "* 필수 라이브러리 \n",
    "* 활성화 함수 및 손실함수에 따른 활성화 함수의 미분 (변수명 derv는 미분을 의미)\n",
    "* sigmoid(x), sigmoid_derv(y), simoid_cross_entropy_with_logits(z, x), simoid_cross_entropy_with_logits_derv(z, x)\n",
    "* relu(x), relu_derv(y)\n",
    "* softmax(x), softmax_corss_entropy_with_logits(labels, logits), softmax_cross_entropy_with_logits_derv(labels, logits)\n",
    "\n",
    "* 기타 기능\n",
    "* 데이터 불러오기 load_csv(path, skip_header)\n",
    "* 원-핫 벡터 처리 onehat(xs, cnt)\n",
    "* 벡터 출력을 돕는 메서드 vector_to_str(x, fmt, max_cnt)\n",
    "* 이미지 array 변환 메서드 load_image_pixels(imagepath, resolution, input_shape)\n",
    "* 이미지 출력 메서드 draw_images_horz(xs, image_shape)\n",
    "* 다중분류모델 예측여부 판단 메서드 show_select_results(est, ans, target_names, max_cnt)\n",
    "* 경로 내 폴더 이름 반환 메서드 list_dir(path)"
   ]
  },
  {
   "cell_type": "code",
   "execution_count": 2,
   "metadata": {},
   "outputs": [],
   "source": [
    "import numpy as np\n",
    "import time\n",
    "import os\n",
    "import csv\n",
    "import matplotlib.pyplot as plt\n",
    "from PIL import Image"
   ]
  },
  {
   "cell_type": "code",
   "execution_count": 3,
   "metadata": {},
   "outputs": [],
   "source": [
    "\n",
    "def sigmoid(x):\n",
    "    return np.exp(-relu(-x)) / (1.0 + np.exp(-np.abs(x)))\n",
    "        \n",
    "def sigmoid_derv(y):\n",
    "    return y * (1 - y)\n",
    "\n",
    "def sigmoid_cross_entropy_with_logits(z, x):\n",
    "    return relu(x) - x * z + np.log(1 + np.exp(-np.abs(x)))\n",
    "\n",
    "def sigmoid_cross_entropy_with_logits_derv(z, x):\n",
    "    return -z + sigmoid(x)"
   ]
  },
  {
   "cell_type": "code",
   "execution_count": 4,
   "metadata": {},
   "outputs": [],
   "source": [
    "def relu(x):\n",
    "    return np.maximum(x, 0)\n",
    "\n",
    "def relu_derv(y):\n",
    "    return np.sign(y)"
   ]
  },
  {
   "cell_type": "code",
   "execution_count": 5,
   "metadata": {},
   "outputs": [],
   "source": [
    "def softmax(x):\n",
    "    max_elem = np.max(x, axis=1)\n",
    "    diff = (x.transpose() - max_elem).transpose()\n",
    "    exp = np.exp(diff)\n",
    "    sum_exp = np.sum(exp, axis=1)\n",
    "    probs = (exp.transpose() / sum_exp).transpose()\n",
    "    return probs\n",
    "\n",
    "def softmax_cross_entropy_with_logits(labels, logits):\n",
    "    probs = softmax(logits)\n",
    "    return -np.sum(labels * np.log(probs+1.0e-10), axis=1)\n",
    "\n",
    "def softmax_cross_entropy_with_logits_derv(labels, logits):\n",
    "    return softmax(logits) - labels"
   ]
  },
  {
   "cell_type": "code",
   "execution_count": 6,
   "metadata": {},
   "outputs": [],
   "source": [
    "def load_csv(path, skip_header=True):\n",
    "    with open(path) as csvfile:\n",
    "        csvreader = csv.reader(csvfile)\n",
    "        headers = None\n",
    "        if skip_header: headers = next(csvreader, None)\n",
    "        rows = []\n",
    "        for row in csvreader:\n",
    "            rows.append(row)\n",
    "            \n",
    "    return rows, headers"
   ]
  },
  {
   "cell_type": "code",
   "execution_count": 7,
   "metadata": {},
   "outputs": [],
   "source": [
    "def onehot(xs, cnt):\n",
    "    return np.eye(cnt)[np.array(xs).astype(int)]\n",
    "\n",
    "def vector_to_str(x, fmt='%.2f', max_cnt=0):\n",
    "    if max_cnt == 0 or len(x) <= max_cnt:\n",
    "        return '[' + ','.join([fmt]*len(x)) % tuple(x) + ']'\n",
    "    v = x[0:max_cnt]\n",
    "    return '[' + ','.join([fmt]*len(v)) % tuple(v) + ',...]'"
   ]
  },
  {
   "cell_type": "code",
   "execution_count": 8,
   "metadata": {},
   "outputs": [],
   "source": [
    "def load_image_pixels(imagepath, resolution, input_shape):\n",
    "    img = Image.open(imagepath)\n",
    "    resized = img.resize(resolution)\n",
    "    return np.array(resized).reshape(input_shape)\n",
    "\n",
    "def draw_images_horz(xs, image_shape=None):\n",
    "    show_cnt = len(xs)\n",
    "    fig, axes = plt.subplots(1, show_cnt, figsize=(5,5))\n",
    "    for n in range(show_cnt):\n",
    "        img = xs[n]\n",
    "        if image_shape:\n",
    "            x3d = img.reshape(image_shape)\n",
    "            img = Image.fromarray(np.uint8(x3d))\n",
    "        axes[n].imshow(img)\n",
    "        axes[n].axis('off')\n",
    "    plt.draw()\n",
    "    plt.show()"
   ]
  },
  {
   "cell_type": "code",
   "execution_count": 9,
   "metadata": {},
   "outputs": [],
   "source": [
    "def show_select_results(est, ans, target_names, max_cnt=0):\n",
    "    for n in range(len(est)):\n",
    "        pstr = vector_to_str(100*est[n], '%2.0f', max_cnt)\n",
    "        estr = target_names[np.argmax(est[n])]\n",
    "        astr = target_names[np.argmax(ans[n])]\n",
    "        rstr = 'O'\n",
    "        if estr != astr: rstr = 'X'\n",
    "        print('추정확률분포 {} => 추정 {} : 정답 {} => {}'. \\\n",
    "              format(pstr, estr, astr, rstr))"
   ]
  },
  {
   "cell_type": "code",
   "execution_count": 10,
   "metadata": {},
   "outputs": [],
   "source": [
    "def list_dir(path):\n",
    "    filenames = os.listdir(path)\n",
    "    filenames.sort()\n",
    "    return filenames"
   ]
  }
 ],
 "metadata": {
  "kernelspec": {
   "display_name": "Python 3",
   "language": "python",
   "name": "python3"
  },
  "language_info": {
   "codemirror_mode": {
    "name": "ipython",
    "version": 3
   },
   "file_extension": ".py",
   "mimetype": "text/x-python",
   "name": "python",
   "nbconvert_exporter": "python",
   "pygments_lexer": "ipython3",
   "version": "3.9.16"
  }
 },
 "nbformat": 4,
 "nbformat_minor": 2
}
