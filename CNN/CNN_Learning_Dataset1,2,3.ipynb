{
 "cells": [
  {
   "cell_type": "code",
   "execution_count": 1,
   "id": "27873e85",
   "metadata": {},
   "outputs": [
    {
     "name": "stderr",
     "output_type": "stream",
     "text": [
      "2023-06-23 15:40:48.277583: I tensorflow/core/platform/cpu_feature_guard.cc:193] This TensorFlow binary is optimized with oneAPI Deep Neural Network Library (oneDNN) to use the following CPU instructions in performance-critical operations:  AVX2 FMA\n",
      "To enable them in other operations, rebuild TensorFlow with the appropriate compiler flags.\n"
     ]
    }
   ],
   "source": [
    "import numpy as np\n",
    "from sklearn.model_selection import train_test_split\n",
    "\n",
    "import matplotlib.pyplot as plt\n",
    "import tensorflow as tf\n",
    "\n",
    "from keras.callbacks import EarlyStopping\n",
    "from tensorflow.keras.models import load_model\n",
    "from sklearn.model_selection import StratifiedKFold\n",
    "import pandas as pd \n",
    "\n",
    "from scipy import stats\n",
    "from tensorflow.keras.models import save_model"
   ]
  },
  {
   "cell_type": "code",
   "execution_count": 2,
   "id": "7fc11f33",
   "metadata": {},
   "outputs": [
    {
     "data": {
      "text/plain": [
       "((3000, 224, 224, 3), (3000,))"
      ]
     },
     "execution_count": 2,
     "metadata": {},
     "output_type": "execute_result"
    }
   ],
   "source": [
    "# 원본 데이터 load\n",
    "\n",
    "Dataset_origin = np.load('images_origin.npy')\n",
    "Labels_origin = np.load('labels_origin.npy')\n",
    "\n",
    "Dataset_origin.shape, Labels_origin.shape"
   ]
  },
  {
   "cell_type": "code",
   "execution_count": 3,
   "id": "74a9c088",
   "metadata": {},
   "outputs": [
    {
     "data": {
      "text/plain": [
       "((6000, 224, 224, 3), (6000,))"
      ]
     },
     "execution_count": 3,
     "metadata": {},
     "output_type": "execute_result"
    }
   ],
   "source": [
    "# 원본 데이터 + 좌우 반전된 데이터 load\n",
    "\n",
    "Dataset_flipped = np.load('images_flipped.npy')\n",
    "Labels_flipped = np.load('labels_flipped.npy')\n",
    "\n",
    "Dataset_flipped.shape, Labels_flipped.shape"
   ]
  },
  {
   "cell_type": "code",
   "execution_count": 4,
   "id": "f0f6fe66",
   "metadata": {},
   "outputs": [
    {
     "data": {
      "text/plain": [
       "((9000, 224, 224, 3), (9000,))"
      ]
     },
     "execution_count": 4,
     "metadata": {},
     "output_type": "execute_result"
    }
   ],
   "source": [
    "# 원본 데이터 + 좌우 반전된 데이터 + 밝기 조절 데이터 load\n",
    "\n",
    "Dataset_brightness = np.load('images_brightness.npy')\n",
    "Labels_brightness = np.load('labels_brightness.npy')\n",
    "\n",
    "Dataset_brightness.shape, Labels_brightness.shape"
   ]
  },
  {
   "cell_type": "code",
   "execution_count": 5,
   "id": "10655e15",
   "metadata": {},
   "outputs": [
    {
     "name": "stdout",
     "output_type": "stream",
     "text": [
      "(1920, 224, 224, 3) (480, 224, 224, 3) (600, 224, 224, 3)\n",
      "(1920,) (480,) (600,)\n"
     ]
    }
   ],
   "source": [
    "# train / val / Test data 분리 - Dataset 1 \n",
    "\n",
    "origin_train, origin_test, labels_train, labels_test = train_test_split(Dataset_origin, Labels_origin, \n",
    "                                                            test_size=0.2,stratify=Labels_origin, random_state=42)\n",
    "\n",
    "origin_train, origin_val, labels_train, labels_val = train_test_split(origin_train, labels_train, \n",
    "                                                            test_size=0.2,stratify=labels_train, random_state=42)\n",
    "\n",
    "print(origin_train.shape, origin_val.shape, origin_test.shape)\n",
    "print(labels_train.shape, labels_val.shape, labels_test.shape)"
   ]
  },
  {
   "cell_type": "code",
   "execution_count": 6,
   "id": "46984e13",
   "metadata": {},
   "outputs": [
    {
     "name": "stdout",
     "output_type": "stream",
     "text": [
      "(3840, 224, 224, 3) (960, 224, 224, 3) (1200, 224, 224, 3)\n",
      "(3840,) (960,) (1200,)\n"
     ]
    }
   ],
   "source": [
    "# train / val / Test data 분리 - Dataset 2\n",
    "\n",
    "flipped_train, flipped_test, labels_flipped_train, labels_flipped_test = train_test_split(Dataset_flipped, Labels_flipped, \n",
    "                                                                                    test_size=0.2,stratify=Labels_flipped, random_state=42)\n",
    "\n",
    "flipped_train, flipped_val, labels_flipped_train, labels_flipped_val = train_test_split(flipped_train, labels_flipped_train, \n",
    "                                                                                    test_size=0.2,stratify=labels_flipped_train, random_state=42)\n",
    "\n",
    "print(flipped_train.shape, flipped_val.shape, flipped_test.shape)\n",
    "print(labels_flipped_train.shape, labels_flipped_val.shape, labels_flipped_test.shape)"
   ]
  },
  {
   "cell_type": "code",
   "execution_count": 7,
   "id": "1383c90d",
   "metadata": {},
   "outputs": [
    {
     "name": "stdout",
     "output_type": "stream",
     "text": [
      "(5760, 224, 224, 3) (1440, 224, 224, 3) (1800, 224, 224, 3)\n",
      "(5760,) (1440,) (1800,)\n"
     ]
    }
   ],
   "source": [
    "# train / val / Test data 분리 - Dataset 3\n",
    "\n",
    "bright_train, bright_test, labels_bright_train, labels_bright_test = train_test_split(Dataset_brightness, Labels_brightness, \n",
    "                                                                                    test_size=0.2,stratify=Labels_brightness, random_state=42)\n",
    "\n",
    "bright_train, bright_val, labels_bright_train, labels_bright_val = train_test_split(bright_train, labels_bright_train, \n",
    "                                                                                    test_size=0.2,stratify=labels_bright_train, random_state=42)\n",
    "\n",
    "print(bright_train.shape, bright_val.shape, bright_test.shape)\n",
    "print(labels_bright_train.shape, labels_bright_val.shape, labels_bright_test.shape)"
   ]
  },
  {
   "cell_type": "code",
   "execution_count": 10,
   "id": "3135a4b5",
   "metadata": {
    "scrolled": true
   },
   "outputs": [
    {
     "name": "stdout",
     "output_type": "stream",
     "text": [
      "Epoch 1/30\n",
      "60/60 [==============================] - 26s 409ms/step - loss: 0.8148 - accuracy: 0.6615 - val_loss: 0.3333 - val_accuracy: 0.9146\n",
      "Epoch 2/30\n",
      "60/60 [==============================] - 24s 409ms/step - loss: 0.2389 - accuracy: 0.9068 - val_loss: 0.0693 - val_accuracy: 0.9771\n",
      "Epoch 3/30\n",
      "60/60 [==============================] - 24s 404ms/step - loss: 0.1126 - accuracy: 0.9667 - val_loss: 0.0612 - val_accuracy: 0.9833\n",
      "Epoch 4/30\n",
      "60/60 [==============================] - 23s 376ms/step - loss: 0.0776 - accuracy: 0.9734 - val_loss: 0.0467 - val_accuracy: 0.9854\n",
      "Epoch 5/30\n",
      "60/60 [==============================] - 23s 391ms/step - loss: 0.0707 - accuracy: 0.9818 - val_loss: 0.0461 - val_accuracy: 0.9854\n",
      "Epoch 6/30\n",
      "60/60 [==============================] - 25s 412ms/step - loss: 0.0872 - accuracy: 0.9703 - val_loss: 0.0370 - val_accuracy: 0.9896\n",
      "Epoch 7/30\n",
      "60/60 [==============================] - 21s 356ms/step - loss: 0.0547 - accuracy: 0.9844 - val_loss: 0.0388 - val_accuracy: 0.9896\n",
      "Epoch 8/30\n",
      "60/60 [==============================] - 22s 362ms/step - loss: 0.0621 - accuracy: 0.9839 - val_loss: 0.0315 - val_accuracy: 0.9896\n",
      "Epoch 9/30\n",
      "60/60 [==============================] - 23s 382ms/step - loss: 0.0468 - accuracy: 0.9875 - val_loss: 0.0301 - val_accuracy: 0.9896\n",
      "Epoch 10/30\n",
      "60/60 [==============================] - 23s 384ms/step - loss: 0.0404 - accuracy: 0.9854 - val_loss: 0.0441 - val_accuracy: 0.9896\n",
      "Epoch 11/30\n",
      "60/60 [==============================] - 24s 407ms/step - loss: 0.0361 - accuracy: 0.9896 - val_loss: 0.0429 - val_accuracy: 0.9896\n",
      "Epoch 12/30\n",
      "60/60 [==============================] - 25s 416ms/step - loss: 0.0353 - accuracy: 0.9891 - val_loss: 0.0707 - val_accuracy: 0.9771\n"
     ]
    },
    {
     "data": {
      "text/plain": [
       "<keras.callbacks.History at 0x7fd4acf0d640>"
      ]
     },
     "execution_count": 10,
     "metadata": {},
     "output_type": "execute_result"
    }
   ],
   "source": [
    "CNN_Model_Dataset1  = tf.keras.Sequential([\n",
    "                            tf.keras.layers.Conv2D(2, (1, 1), activation='relu', input_shape=(224, 224, 3)),\n",
    "                            tf.keras.layers.Conv2D(8, (3, 3), activation='relu', padding='same'),\n",
    "                            tf.keras.layers.MaxPooling2D((2, 2)),\n",
    "                            tf.keras.layers.Flatten(),\n",
    "                            tf.keras.layers.Dense(128, activation='relu'),\n",
    "                            tf.keras.layers.Dropout(0.5),\n",
    "                            tf.keras.layers.Dense(64, activation='relu'),\n",
    "                            tf.keras.layers.Dropout(0.5),\n",
    "                            tf.keras.layers.Dense(1, activation='sigmoid')\n",
    "                            ])\n",
    "\n",
    "CNN_Model_Dataset1.compile(optimizer='adam',loss='binary_crossentropy',metrics=['accuracy'])\n",
    "early_stopping = EarlyStopping(monitor='val_loss', patience=3)\n",
    "CNN_Model_Dataset1.fit(origin_train, labels_train, epochs=30, validation_data=(origin_val, labels_val), callbacks=[early_stopping])"
   ]
  },
  {
   "cell_type": "code",
   "execution_count": 11,
   "id": "40f6acc0",
   "metadata": {},
   "outputs": [
    {
     "name": "stdout",
     "output_type": "stream",
     "text": [
      "Epoch 1/30\n",
      "120/120 [==============================] - 54s 438ms/step - loss: 0.3011 - accuracy: 0.8885 - val_loss: 0.0701 - val_accuracy: 0.9740\n",
      "Epoch 2/30\n",
      "120/120 [==============================] - 48s 399ms/step - loss: 0.0828 - accuracy: 0.9763 - val_loss: 0.0484 - val_accuracy: 0.9760\n",
      "Epoch 3/30\n",
      "120/120 [==============================] - 55s 460ms/step - loss: 0.0630 - accuracy: 0.9849 - val_loss: 0.0322 - val_accuracy: 0.9885\n",
      "Epoch 4/30\n",
      "120/120 [==============================] - 50s 419ms/step - loss: 0.0576 - accuracy: 0.9859 - val_loss: 0.0825 - val_accuracy: 0.9719\n",
      "Epoch 5/30\n",
      "120/120 [==============================] - 49s 408ms/step - loss: 0.0413 - accuracy: 0.9904 - val_loss: 0.0262 - val_accuracy: 0.9927\n",
      "Epoch 6/30\n",
      "120/120 [==============================] - 49s 411ms/step - loss: 0.0433 - accuracy: 0.9919 - val_loss: 0.0295 - val_accuracy: 0.9937\n",
      "Epoch 7/30\n",
      "120/120 [==============================] - 56s 464ms/step - loss: 0.0405 - accuracy: 0.9930 - val_loss: 0.0217 - val_accuracy: 0.9948\n",
      "Epoch 8/30\n",
      "120/120 [==============================] - 56s 469ms/step - loss: 0.0249 - accuracy: 0.9937 - val_loss: 0.0336 - val_accuracy: 0.9937\n",
      "Epoch 9/30\n",
      "120/120 [==============================] - 75s 628ms/step - loss: 0.0434 - accuracy: 0.9909 - val_loss: 0.0229 - val_accuracy: 0.9927\n",
      "Epoch 10/30\n",
      "120/120 [==============================] - 62s 518ms/step - loss: 0.0274 - accuracy: 0.9948 - val_loss: 0.0240 - val_accuracy: 0.9927\n"
     ]
    },
    {
     "data": {
      "text/plain": [
       "<keras.callbacks.History at 0x7fcc47920310>"
      ]
     },
     "execution_count": 11,
     "metadata": {},
     "output_type": "execute_result"
    }
   ],
   "source": [
    "CNN_Model_Dataset2  = tf.keras.Sequential([\n",
    "                            tf.keras.layers.Conv2D(2, (1, 1), activation='relu', input_shape=(224, 224, 3)),\n",
    "                            tf.keras.layers.Conv2D(8, (3, 3), activation='relu', padding='same'),\n",
    "                            tf.keras.layers.MaxPooling2D((2, 2)),\n",
    "                            tf.keras.layers.Flatten(),\n",
    "                            tf.keras.layers.Dense(128, activation='relu'),\n",
    "                            tf.keras.layers.Dropout(0.5),\n",
    "                            tf.keras.layers.Dense(64, activation='relu'),\n",
    "                            tf.keras.layers.Dropout(0.5),\n",
    "                            tf.keras.layers.Dense(1, activation='sigmoid')\n",
    "                            ])\n",
    "\n",
    "CNN_Model_Dataset2.compile(optimizer='adam',loss='binary_crossentropy',metrics=['accuracy'])\n",
    "early_stopping = EarlyStopping(monitor='val_loss', patience=3)\n",
    "CNN_Model_Dataset2.fit(flipped_train, labels_flipped_train, epochs=30, validation_data=(flipped_val, labels_flipped_val), callbacks=[early_stopping])"
   ]
  },
  {
   "cell_type": "code",
   "execution_count": 12,
   "id": "9dcf2c35",
   "metadata": {},
   "outputs": [
    {
     "name": "stdout",
     "output_type": "stream",
     "text": [
      "Epoch 1/30\n",
      "180/180 [==============================] - 97s 526ms/step - loss: 0.8693 - accuracy: 0.5844 - val_loss: 0.4349 - val_accuracy: 0.6382\n",
      "Epoch 2/30\n",
      "180/180 [==============================] - 83s 458ms/step - loss: 0.3422 - accuracy: 0.8378 - val_loss: 0.1039 - val_accuracy: 0.9618\n",
      "Epoch 3/30\n",
      "180/180 [==============================] - 73s 407ms/step - loss: 0.2035 - accuracy: 0.9148 - val_loss: 0.0940 - val_accuracy: 0.9764\n",
      "Epoch 4/30\n",
      "180/180 [==============================] - 77s 430ms/step - loss: 0.1325 - accuracy: 0.9363 - val_loss: 0.0841 - val_accuracy: 0.9708\n",
      "Epoch 5/30\n",
      "180/180 [==============================] - 79s 436ms/step - loss: 0.1453 - accuracy: 0.9307 - val_loss: 0.1225 - val_accuracy: 0.9639\n",
      "Epoch 6/30\n",
      "180/180 [==============================] - 82s 458ms/step - loss: 0.0988 - accuracy: 0.9606 - val_loss: 0.0989 - val_accuracy: 0.9722\n",
      "Epoch 7/30\n",
      "180/180 [==============================] - 79s 440ms/step - loss: 0.0953 - accuracy: 0.9628 - val_loss: 0.0769 - val_accuracy: 0.9778\n",
      "Epoch 8/30\n",
      "180/180 [==============================] - 79s 440ms/step - loss: 0.0777 - accuracy: 0.9741 - val_loss: 0.1160 - val_accuracy: 0.9632\n",
      "Epoch 9/30\n",
      "180/180 [==============================] - 79s 440ms/step - loss: 0.0888 - accuracy: 0.9642 - val_loss: 0.2800 - val_accuracy: 0.8951\n",
      "Epoch 10/30\n",
      "180/180 [==============================] - 80s 445ms/step - loss: 0.1042 - accuracy: 0.9590 - val_loss: 0.0912 - val_accuracy: 0.9715\n"
     ]
    },
    {
     "data": {
      "text/plain": [
       "<keras.callbacks.History at 0x7fcc479f6040>"
      ]
     },
     "execution_count": 12,
     "metadata": {},
     "output_type": "execute_result"
    }
   ],
   "source": [
    "CNN_Model_Dataset3  = tf.keras.Sequential([\n",
    "                            tf.keras.layers.Conv2D(2, (1, 1), activation='relu', input_shape=(224, 224, 3)),\n",
    "                            tf.keras.layers.Conv2D(8, (3, 3), activation='relu', padding='same'),\n",
    "                            tf.keras.layers.MaxPooling2D((2, 2)),\n",
    "                            tf.keras.layers.Flatten(),\n",
    "                            tf.keras.layers.Dense(128, activation='relu'),\n",
    "                            tf.keras.layers.Dropout(0.5),\n",
    "                            tf.keras.layers.Dense(64, activation='relu'),\n",
    "                            tf.keras.layers.Dropout(0.5),\n",
    "                            tf.keras.layers.Dense(1, activation='sigmoid')\n",
    "                            ])\n",
    "\n",
    "CNN_Model_Dataset3.compile(optimizer='adam',loss='binary_crossentropy',metrics=['accuracy'])\n",
    "early_stopping = EarlyStopping(monitor='val_loss', patience=3)\n",
    "CNN_Model_Dataset3.fit(bright_train, labels_bright_train, epochs=30, validation_data=(bright_val, labels_bright_val), callbacks=[early_stopping])"
   ]
  },
  {
   "cell_type": "code",
   "execution_count": 13,
   "id": "0c92ddd5",
   "metadata": {},
   "outputs": [],
   "source": [
    "TestData = np.load('images_test.npy')\n",
    "TestLabel = np.load('labels_test.npy')"
   ]
  },
  {
   "cell_type": "code",
   "execution_count": 14,
   "id": "10fe3ba6",
   "metadata": {
    "scrolled": true
   },
   "outputs": [
    {
     "name": "stdout",
     "output_type": "stream",
     "text": [
      "25/25 [==============================] - 2s 93ms/step - loss: 0.1243 - accuracy: 0.9775\n",
      "25/25 [==============================] - 3s 106ms/step - loss: 0.0776 - accuracy: 0.9862\n",
      "25/25 [==============================] - 3s 114ms/step - loss: 0.1333 - accuracy: 0.9663\n"
     ]
    },
    {
     "data": {
      "text/plain": [
       "(0.9775000214576721, 0.9862499833106995, 0.9662500023841858)"
      ]
     },
     "execution_count": 14,
     "metadata": {},
     "output_type": "execute_result"
    }
   ],
   "source": [
    "_, score_Dataset1 = CNN_Model_Dataset1.evaluate(TestData, TestLabel)\n",
    "_, score_Dataset2 = CNN_Model_Dataset2.evaluate(TestData, TestLabel)\n",
    "_, score_Dataset3 = CNN_Model_Dataset3.evaluate(TestData, TestLabel)\n",
    "\n",
    "score_Dataset1, score_Dataset2, score_Dataset3"
   ]
  },
  {
   "cell_type": "code",
   "execution_count": 15,
   "id": "38c06f5a",
   "metadata": {},
   "outputs": [],
   "source": [
    "# 각 데이터셋을 학습한 모델 저장\n",
    "\n",
    "CNN_Model_Dataset1.save(\"CNN_Model_Dataset1.h5\")\n",
    "CNN_Model_Dataset2.save(\"CNN_Model_Dataset2.h5\")\n",
    "CNN_Model_Dataset3.save(\"CNN_Model_Dataset3.h5\")"
   ]
  }
 ],
 "metadata": {
  "kernelspec": {
   "display_name": "Python 3 (ipykernel)",
   "language": "python",
   "name": "python3"
  },
  "language_info": {
   "codemirror_mode": {
    "name": "ipython",
    "version": 3
   },
   "file_extension": ".py",
   "mimetype": "text/x-python",
   "name": "python",
   "nbconvert_exporter": "python",
   "pygments_lexer": "ipython3",
   "version": "3.9.13"
  }
 },
 "nbformat": 4,
 "nbformat_minor": 5
}
